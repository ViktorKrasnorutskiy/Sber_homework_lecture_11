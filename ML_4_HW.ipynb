{
 "cells": [
  {
   "cell_type": "code",
   "execution_count": 1,
   "metadata": {},
   "outputs": [],
   "source": [
    "import pandas as pd\n",
    "import numpy as np\n",
    "\n",
    "from sklearn.model_selection import train_test_split"
   ]
  },
  {
   "cell_type": "markdown",
   "metadata": {},
   "source": [
    "https://archive.ics.uci.edu/ml/datasets/wine+quality"
   ]
  },
  {
   "cell_type": "code",
   "execution_count": 2,
   "metadata": {},
   "outputs": [],
   "source": [
    "link = 'https://archive.ics.uci.edu/ml/machine-learning-databases/wine-quality/winequality-red.csv'\n",
    "data = pd.read_csv(link, sep=';')"
   ]
  },
  {
   "cell_type": "code",
   "execution_count": 3,
   "metadata": {},
   "outputs": [
    {
     "data": {
      "text/html": [
       "<div>\n",
       "<style scoped>\n",
       "    .dataframe tbody tr th:only-of-type {\n",
       "        vertical-align: middle;\n",
       "    }\n",
       "\n",
       "    .dataframe tbody tr th {\n",
       "        vertical-align: top;\n",
       "    }\n",
       "\n",
       "    .dataframe thead th {\n",
       "        text-align: right;\n",
       "    }\n",
       "</style>\n",
       "<table border=\"1\" class=\"dataframe\">\n",
       "  <thead>\n",
       "    <tr style=\"text-align: right;\">\n",
       "      <th></th>\n",
       "      <th>fixed acidity</th>\n",
       "      <th>volatile acidity</th>\n",
       "      <th>citric acid</th>\n",
       "      <th>residual sugar</th>\n",
       "      <th>chlorides</th>\n",
       "      <th>free sulfur dioxide</th>\n",
       "      <th>total sulfur dioxide</th>\n",
       "      <th>density</th>\n",
       "      <th>pH</th>\n",
       "      <th>sulphates</th>\n",
       "      <th>alcohol</th>\n",
       "      <th>quality</th>\n",
       "    </tr>\n",
       "  </thead>\n",
       "  <tbody>\n",
       "    <tr>\n",
       "      <th>0</th>\n",
       "      <td>7.4</td>\n",
       "      <td>0.700</td>\n",
       "      <td>0.00</td>\n",
       "      <td>1.9</td>\n",
       "      <td>0.076</td>\n",
       "      <td>11.0</td>\n",
       "      <td>34.0</td>\n",
       "      <td>0.99780</td>\n",
       "      <td>3.51</td>\n",
       "      <td>0.56</td>\n",
       "      <td>9.4</td>\n",
       "      <td>5</td>\n",
       "    </tr>\n",
       "    <tr>\n",
       "      <th>1</th>\n",
       "      <td>7.8</td>\n",
       "      <td>0.880</td>\n",
       "      <td>0.00</td>\n",
       "      <td>2.6</td>\n",
       "      <td>0.098</td>\n",
       "      <td>25.0</td>\n",
       "      <td>67.0</td>\n",
       "      <td>0.99680</td>\n",
       "      <td>3.20</td>\n",
       "      <td>0.68</td>\n",
       "      <td>9.8</td>\n",
       "      <td>5</td>\n",
       "    </tr>\n",
       "    <tr>\n",
       "      <th>2</th>\n",
       "      <td>7.8</td>\n",
       "      <td>0.760</td>\n",
       "      <td>0.04</td>\n",
       "      <td>2.3</td>\n",
       "      <td>0.092</td>\n",
       "      <td>15.0</td>\n",
       "      <td>54.0</td>\n",
       "      <td>0.99700</td>\n",
       "      <td>3.26</td>\n",
       "      <td>0.65</td>\n",
       "      <td>9.8</td>\n",
       "      <td>5</td>\n",
       "    </tr>\n",
       "    <tr>\n",
       "      <th>3</th>\n",
       "      <td>11.2</td>\n",
       "      <td>0.280</td>\n",
       "      <td>0.56</td>\n",
       "      <td>1.9</td>\n",
       "      <td>0.075</td>\n",
       "      <td>17.0</td>\n",
       "      <td>60.0</td>\n",
       "      <td>0.99800</td>\n",
       "      <td>3.16</td>\n",
       "      <td>0.58</td>\n",
       "      <td>9.8</td>\n",
       "      <td>6</td>\n",
       "    </tr>\n",
       "    <tr>\n",
       "      <th>4</th>\n",
       "      <td>7.4</td>\n",
       "      <td>0.700</td>\n",
       "      <td>0.00</td>\n",
       "      <td>1.9</td>\n",
       "      <td>0.076</td>\n",
       "      <td>11.0</td>\n",
       "      <td>34.0</td>\n",
       "      <td>0.99780</td>\n",
       "      <td>3.51</td>\n",
       "      <td>0.56</td>\n",
       "      <td>9.4</td>\n",
       "      <td>5</td>\n",
       "    </tr>\n",
       "    <tr>\n",
       "      <th>...</th>\n",
       "      <td>...</td>\n",
       "      <td>...</td>\n",
       "      <td>...</td>\n",
       "      <td>...</td>\n",
       "      <td>...</td>\n",
       "      <td>...</td>\n",
       "      <td>...</td>\n",
       "      <td>...</td>\n",
       "      <td>...</td>\n",
       "      <td>...</td>\n",
       "      <td>...</td>\n",
       "      <td>...</td>\n",
       "    </tr>\n",
       "    <tr>\n",
       "      <th>1594</th>\n",
       "      <td>6.2</td>\n",
       "      <td>0.600</td>\n",
       "      <td>0.08</td>\n",
       "      <td>2.0</td>\n",
       "      <td>0.090</td>\n",
       "      <td>32.0</td>\n",
       "      <td>44.0</td>\n",
       "      <td>0.99490</td>\n",
       "      <td>3.45</td>\n",
       "      <td>0.58</td>\n",
       "      <td>10.5</td>\n",
       "      <td>5</td>\n",
       "    </tr>\n",
       "    <tr>\n",
       "      <th>1595</th>\n",
       "      <td>5.9</td>\n",
       "      <td>0.550</td>\n",
       "      <td>0.10</td>\n",
       "      <td>2.2</td>\n",
       "      <td>0.062</td>\n",
       "      <td>39.0</td>\n",
       "      <td>51.0</td>\n",
       "      <td>0.99512</td>\n",
       "      <td>3.52</td>\n",
       "      <td>0.76</td>\n",
       "      <td>11.2</td>\n",
       "      <td>6</td>\n",
       "    </tr>\n",
       "    <tr>\n",
       "      <th>1596</th>\n",
       "      <td>6.3</td>\n",
       "      <td>0.510</td>\n",
       "      <td>0.13</td>\n",
       "      <td>2.3</td>\n",
       "      <td>0.076</td>\n",
       "      <td>29.0</td>\n",
       "      <td>40.0</td>\n",
       "      <td>0.99574</td>\n",
       "      <td>3.42</td>\n",
       "      <td>0.75</td>\n",
       "      <td>11.0</td>\n",
       "      <td>6</td>\n",
       "    </tr>\n",
       "    <tr>\n",
       "      <th>1597</th>\n",
       "      <td>5.9</td>\n",
       "      <td>0.645</td>\n",
       "      <td>0.12</td>\n",
       "      <td>2.0</td>\n",
       "      <td>0.075</td>\n",
       "      <td>32.0</td>\n",
       "      <td>44.0</td>\n",
       "      <td>0.99547</td>\n",
       "      <td>3.57</td>\n",
       "      <td>0.71</td>\n",
       "      <td>10.2</td>\n",
       "      <td>5</td>\n",
       "    </tr>\n",
       "    <tr>\n",
       "      <th>1598</th>\n",
       "      <td>6.0</td>\n",
       "      <td>0.310</td>\n",
       "      <td>0.47</td>\n",
       "      <td>3.6</td>\n",
       "      <td>0.067</td>\n",
       "      <td>18.0</td>\n",
       "      <td>42.0</td>\n",
       "      <td>0.99549</td>\n",
       "      <td>3.39</td>\n",
       "      <td>0.66</td>\n",
       "      <td>11.0</td>\n",
       "      <td>6</td>\n",
       "    </tr>\n",
       "  </tbody>\n",
       "</table>\n",
       "<p>1599 rows × 12 columns</p>\n",
       "</div>"
      ],
      "text/plain": [
       "      fixed acidity  volatile acidity  citric acid  residual sugar  chlorides  \\\n",
       "0               7.4             0.700         0.00             1.9      0.076   \n",
       "1               7.8             0.880         0.00             2.6      0.098   \n",
       "2               7.8             0.760         0.04             2.3      0.092   \n",
       "3              11.2             0.280         0.56             1.9      0.075   \n",
       "4               7.4             0.700         0.00             1.9      0.076   \n",
       "...             ...               ...          ...             ...        ...   \n",
       "1594            6.2             0.600         0.08             2.0      0.090   \n",
       "1595            5.9             0.550         0.10             2.2      0.062   \n",
       "1596            6.3             0.510         0.13             2.3      0.076   \n",
       "1597            5.9             0.645         0.12             2.0      0.075   \n",
       "1598            6.0             0.310         0.47             3.6      0.067   \n",
       "\n",
       "      free sulfur dioxide  total sulfur dioxide  density    pH  sulphates  \\\n",
       "0                    11.0                  34.0  0.99780  3.51       0.56   \n",
       "1                    25.0                  67.0  0.99680  3.20       0.68   \n",
       "2                    15.0                  54.0  0.99700  3.26       0.65   \n",
       "3                    17.0                  60.0  0.99800  3.16       0.58   \n",
       "4                    11.0                  34.0  0.99780  3.51       0.56   \n",
       "...                   ...                   ...      ...   ...        ...   \n",
       "1594                 32.0                  44.0  0.99490  3.45       0.58   \n",
       "1595                 39.0                  51.0  0.99512  3.52       0.76   \n",
       "1596                 29.0                  40.0  0.99574  3.42       0.75   \n",
       "1597                 32.0                  44.0  0.99547  3.57       0.71   \n",
       "1598                 18.0                  42.0  0.99549  3.39       0.66   \n",
       "\n",
       "      alcohol  quality  \n",
       "0         9.4        5  \n",
       "1         9.8        5  \n",
       "2         9.8        5  \n",
       "3         9.8        6  \n",
       "4         9.4        5  \n",
       "...       ...      ...  \n",
       "1594     10.5        5  \n",
       "1595     11.2        6  \n",
       "1596     11.0        6  \n",
       "1597     10.2        5  \n",
       "1598     11.0        6  \n",
       "\n",
       "[1599 rows x 12 columns]"
      ]
     },
     "execution_count": 3,
     "metadata": {},
     "output_type": "execute_result"
    }
   ],
   "source": [
    "data"
   ]
  },
  {
   "cell_type": "markdown",
   "metadata": {},
   "source": [
    "### 1.Оцените качество по метрике accuracy для классификаторов:\n",
    "\n",
    "DecisionTreeClassifier\n",
    "\n",
    "BaggingClassifier со 100 деревьями\n",
    "\n",
    "RandomForestClassifier со 100 деревьями\n",
    "\n",
    "Сравните результаты и напишите какой вывод можно сделать."
   ]
  },
  {
   "cell_type": "code",
   "execution_count": 4,
   "metadata": {},
   "outputs": [],
   "source": [
    "from sklearn.ensemble import RandomForestClassifier, BaggingClassifier\n",
    "from sklearn.tree import DecisionTreeClassifier\n",
    "from sklearn.model_selection import cross_val_score"
   ]
  },
  {
   "cell_type": "code",
   "execution_count": 5,
   "metadata": {},
   "outputs": [
    {
     "name": "stdout",
     "output_type": "stream",
     "text": [
      "RandomForestClassifier()\n",
      "Wall time: 943 ms\n",
      "0.557848655409631 \n",
      "\n",
      "BaggingClassifier(n_estimators=100)\n",
      "Wall time: 1.82 s\n",
      "0.5616010006253909 \n",
      "\n",
      "DecisionTreeClassifier()\n",
      "Wall time: 31.3 ms\n",
      "0.44903064415259536 \n",
      "\n"
     ]
    }
   ],
   "source": [
    "X, y = data.iloc[:,:-1], data.iloc[:,-1]\n",
    "clfs = [RandomForestClassifier(n_estimators=100), BaggingClassifier(n_estimators=100), DecisionTreeClassifier()]\n",
    "\n",
    "for clf in clfs:\n",
    "    print(clf)\n",
    "    %time cvs = cross_val_score(clf, X, y, scoring='accuracy', cv=3).mean()\n",
    "    print(cvs, '\\n')"
   ]
  },
  {
   "cell_type": "markdown",
   "metadata": {},
   "source": [
    "Результат по метрике accuracy у RandomForestClassifier почти такой-же как и у BaggingClassifier, но скорость обучения быстрее в ~2 раза."
   ]
  },
  {
   "cell_type": "markdown",
   "metadata": {},
   "source": [
    "### 2.Разделите выборку на обучающую и тестовую в отношении 70%/30%"
   ]
  },
  {
   "cell_type": "code",
   "execution_count": 6,
   "metadata": {},
   "outputs": [],
   "source": [
    "def split_df(df, test_size=.3, size=1, seed=42):\n",
    "    df_res = df.sample(int(df.shape[0]*size)).copy() if size != 1 else df.copy()\n",
    "    X_res, y_res = df_res.iloc[:,:-1], df_res.iloc[:,-1]\n",
    "    X_res_train, X_res_test, y_res_train, y_res_test = train_test_split(X_res, y_res, test_size=test_size, random_state=seed)\n",
    "    return df_res, X_res, y_res, X_res_train, X_res_test, y_res_train, y_res_test"
   ]
  },
  {
   "cell_type": "code",
   "execution_count": 7,
   "metadata": {},
   "outputs": [
    {
     "name": "stdout",
     "output_type": "stream",
     "text": [
      "(1599, 12) (1599, 11) (1119, 11) (480, 11)\n"
     ]
    }
   ],
   "source": [
    "df, X, y, X_train, X_test, y_train, y_test = split_df(data)\n",
    "print(df.shape, X.shape, X_train.shape, X_test.shape)"
   ]
  },
  {
   "cell_type": "markdown",
   "metadata": {},
   "source": [
    "### 3.Посчитайте качество на тестовой выборке по метрике accuracy для классификатора RandomForestClassifier, используя значения деревьев:\n",
    "    \n",
    "10, 50, 100, 200, далее с шагом 200 до 5000 деревьев.\n",
    "Постройте график зависимости качества от числа деревьев.\n",
    "\n"
   ]
  },
  {
   "cell_type": "code",
   "execution_count": 8,
   "metadata": {},
   "outputs": [],
   "source": [
    "from matplotlib import pyplot as plt"
   ]
  },
  {
   "cell_type": "code",
   "execution_count": 9,
   "metadata": {},
   "outputs": [
    {
     "name": "stdout",
     "output_type": "stream",
     "text": [
      "Wall time: 2min 33s\n"
     ]
    }
   ],
   "source": [
    "%%time\n",
    "N = [10, 50, 100] + [n for n in range(200,5001,200)]\n",
    "scores = []\n",
    "\n",
    "for n in N:\n",
    "    clf = RandomForestClassifier(n_estimators=int(n), n_jobs=-1)\n",
    "    clf.fit(X_train, y_train)\n",
    "    score_test = clf.score(X_test, y_test)\n",
    "    score_train = clf.score(X_train, y_train)\n",
    "    scores.append({'n':int(n), 'score_test':score_test, 'score_train':score_train})"
   ]
  },
  {
   "cell_type": "code",
   "execution_count": 10,
   "metadata": {},
   "outputs": [
    {
     "data": {
      "text/plain": [
       "[<matplotlib.lines.Line2D at 0x1c4cdac26a0>]"
      ]
     },
     "execution_count": 10,
     "metadata": {},
     "output_type": "execute_result"
    },
    {
     "data": {
      "image/png": "[encoded data removed]",
      "text/plain": [
       "<Figure size 432x288 with 1 Axes>"
      ]
     },
     "metadata": {
      "needs_background": "light"
     },
     "output_type": "display_data"
    }
   ],
   "source": [
    "scores_df = pd.DataFrame(scores)\n",
    "\n",
    "plt.plot(scores_df.n, scores_df.score_test)\n",
    "#plt.plot(scores_df.n, scores_df.score_train)"
   ]
  },
  {
   "cell_type": "markdown",
   "metadata": {},
   "source": [
    "### 4.Обучите реализации градиентного бустинга с параметрами по умолчанию из библиотек sklearn и xgboost. Сравните значение метрики accuracy по cross_val_score"
   ]
  },
  {
   "cell_type": "code",
   "execution_count": 11,
   "metadata": {},
   "outputs": [],
   "source": [
    "from sklearn.ensemble import GradientBoostingClassifier\n",
    "from xgboost import XGBClassifier"
   ]
  },
  {
   "cell_type": "code",
   "execution_count": 12,
   "metadata": {},
   "outputs": [],
   "source": [
    "import warnings\n",
    "warnings.filterwarnings('ignore')"
   ]
  },
  {
   "cell_type": "code",
   "execution_count": 13,
   "metadata": {},
   "outputs": [
    {
     "name": "stdout",
     "output_type": "stream",
     "text": [
      "GradientBoostingClassifier\n",
      "Wall time: 8.04 s\n",
      "0.5697315830721004 \n",
      "\n",
      "XGBClassifier\n",
      "Wall time: 1.99 s\n",
      "0.5472335423197492 \n",
      "\n"
     ]
    }
   ],
   "source": [
    "X, y = data.iloc[:,:-1], data.iloc[:,-1]\n",
    "clfs = [{'name':'GradientBoostingClassifier', 'model':GradientBoostingClassifier()}, \n",
    "        {'name':'XGBClassifier', 'model':XGBClassifier(objective='multi:softprob', eval_metric='mlogloss')}]\n",
    "\n",
    "for clf in clfs:\n",
    "    clf_name = clf['name']\n",
    "    model = clf['model']\n",
    "    print(clf_name)\n",
    "    %time cvs = cross_val_score(model, X, y, scoring=\"accuracy\", cv=5).mean()\n",
    "    print(cvs, '\\n')"
   ]
  },
  {
   "cell_type": "markdown",
   "metadata": {},
   "source": [
    "### 5.Подберите оптимальные параметры этих алгоритмов с помощью GridSearchCV(cv=3).\n",
    "Параметры для оптимизации:\n",
    "\n",
    "оптимизируемый функционал\n",
    "\n",
    "скорость обучения\n",
    "\n",
    "количество деревьев\n",
    "\n",
    "глубина деревьев\n",
    "\n",
    "Сравните значение метрики accuracy и скорость работы. Выведите лучшие параметры алгоритмов."
   ]
  },
  {
   "cell_type": "code",
   "execution_count": 14,
   "metadata": {},
   "outputs": [],
   "source": [
    "from sklearn.model_selection import GridSearchCV"
   ]
  },
  {
   "cell_type": "code",
   "execution_count": 15,
   "metadata": {},
   "outputs": [
    {
     "data": {
      "text/plain": [
       "dict_keys(['ccp_alpha', 'criterion', 'init', 'learning_rate', 'loss', 'max_depth', 'max_features', 'max_leaf_nodes', 'min_impurity_decrease', 'min_impurity_split', 'min_samples_leaf', 'min_samples_split', 'min_weight_fraction_leaf', 'n_estimators', 'n_iter_no_change', 'presort', 'random_state', 'subsample', 'tol', 'validation_fraction', 'verbose', 'warm_start'])"
      ]
     },
     "execution_count": 15,
     "metadata": {},
     "output_type": "execute_result"
    }
   ],
   "source": [
    "GradientBoostingClassifier().get_params().keys()"
   ]
  },
  {
   "cell_type": "code",
   "execution_count": 16,
   "metadata": {},
   "outputs": [
    {
     "data": {
      "text/plain": [
       "dict_keys(['objective', 'use_label_encoder', 'base_score', 'booster', 'colsample_bylevel', 'colsample_bynode', 'colsample_bytree', 'gamma', 'gpu_id', 'importance_type', 'interaction_constraints', 'learning_rate', 'max_delta_step', 'max_depth', 'min_child_weight', 'missing', 'monotone_constraints', 'n_estimators', 'n_jobs', 'num_parallel_tree', 'random_state', 'reg_alpha', 'reg_lambda', 'scale_pos_weight', 'subsample', 'tree_method', 'validate_parameters', 'verbosity'])"
      ]
     },
     "execution_count": 16,
     "metadata": {},
     "output_type": "execute_result"
    }
   ],
   "source": [
    "XGBClassifier().get_params().keys()"
   ]
  },
  {
   "cell_type": "code",
   "execution_count": 17,
   "metadata": {},
   "outputs": [
    {
     "name": "stdout",
     "output_type": "stream",
     "text": [
      "Wall time: 1min 44s\n",
      "GradientBoostingClassifier\n",
      "{'criterion': 'friedman_mse', 'learning_rate': 0.1, 'max_depth': 2, 'n_estimators': 30}\n",
      "Wall time: 7.33 s\n",
      "XGBClassifier\n",
      "{'eval_metric': 'mlogloss', 'learning_rate': 0.1, 'max_depth': 4, 'n_estimators': 20, 'objective': 'multi:softprob'}\n"
     ]
    }
   ],
   "source": [
    "models = [\n",
    "    {\n",
    "        'clf': GradientBoostingClassifier,\n",
    "        'params': [{\n",
    "            'criterion': ['friedman_mse', 'mae'],\n",
    "            'learning_rate': [.1, .5, .9],\n",
    "            'n_estimators': [10, 20, 30], \n",
    "            'max_depth': [2, 3, 4]\n",
    "        }]\n",
    "    }, {\n",
    "        'clf': XGBClassifier,\n",
    "        'params': [{\n",
    "            'objective': ['multi:softprob'],\n",
    "            'eval_metric': ['mlogloss', 'mae'],\n",
    "            'learning_rate': [.1, .5, .9],\n",
    "            'n_estimators': [10, 20, 30],  \n",
    "            'max_depth': [2, 3, 4]\n",
    "        }]\n",
    "    }\n",
    "]\n",
    "\n",
    "cv_dfs = []\n",
    "\n",
    "for model in models:\n",
    "    clf_name = model['clf'].__name__\n",
    "    clf = model['clf']\n",
    "    params = model['params']\n",
    "    %time search = GridSearchCV(clf(), param_grid=params, scoring='accuracy', cv=3, n_jobs=-1).fit(X, y)\n",
    "    cv_df = pd.DataFrame(search.cv_results_)\n",
    "    cv_df['clf_name'] = clf_name\n",
    "    cv_dfs.append(cv_df)\n",
    "    print(clf_name)\n",
    "    print(search.best_params_)"
   ]
  },
  {
   "cell_type": "code",
   "execution_count": 18,
   "metadata": {},
   "outputs": [
    {
     "data": {
      "text/html": [
       "<div>\n",
       "<style scoped>\n",
       "    .dataframe tbody tr th:only-of-type {\n",
       "        vertical-align: middle;\n",
       "    }\n",
       "\n",
       "    .dataframe tbody tr th {\n",
       "        vertical-align: top;\n",
       "    }\n",
       "\n",
       "    .dataframe thead th {\n",
       "        text-align: right;\n",
       "    }\n",
       "</style>\n",
       "<table border=\"1\" class=\"dataframe\">\n",
       "  <thead>\n",
       "    <tr style=\"text-align: right;\">\n",
       "      <th></th>\n",
       "      <th>clf_name</th>\n",
       "      <th>mean_test_score</th>\n",
       "      <th>mean_fit_time</th>\n",
       "      <th>mean_score_time</th>\n",
       "      <th>param_criterion</th>\n",
       "      <th>param_learning_rate</th>\n",
       "      <th>param_max_depth</th>\n",
       "      <th>param_n_estimators</th>\n",
       "      <th>param_eval_metric</th>\n",
       "    </tr>\n",
       "  </thead>\n",
       "  <tbody>\n",
       "    <tr>\n",
       "      <th>61</th>\n",
       "      <td>XGBClassifier</td>\n",
       "      <td>0.585991</td>\n",
       "      <td>0.408848</td>\n",
       "      <td>0.000000</td>\n",
       "      <td>NaN</td>\n",
       "      <td>0.1</td>\n",
       "      <td>4</td>\n",
       "      <td>20</td>\n",
       "      <td>mlogloss</td>\n",
       "    </tr>\n",
       "    <tr>\n",
       "      <th>63</th>\n",
       "      <td>XGBClassifier</td>\n",
       "      <td>0.557849</td>\n",
       "      <td>0.096069</td>\n",
       "      <td>0.007382</td>\n",
       "      <td>NaN</td>\n",
       "      <td>0.5</td>\n",
       "      <td>2</td>\n",
       "      <td>10</td>\n",
       "      <td>mlogloss</td>\n",
       "    </tr>\n",
       "    <tr>\n",
       "      <th>88</th>\n",
       "      <td>XGBClassifier</td>\n",
       "      <td>0.585991</td>\n",
       "      <td>0.486933</td>\n",
       "      <td>0.007210</td>\n",
       "      <td>NaN</td>\n",
       "      <td>0.1</td>\n",
       "      <td>4</td>\n",
       "      <td>20</td>\n",
       "      <td>mae</td>\n",
       "    </tr>\n",
       "  </tbody>\n",
       "</table>\n",
       "</div>"
      ],
      "text/plain": [
       "         clf_name  mean_test_score  mean_fit_time  mean_score_time  \\\n",
       "61  XGBClassifier         0.585991       0.408848         0.000000   \n",
       "63  XGBClassifier         0.557849       0.096069         0.007382   \n",
       "88  XGBClassifier         0.585991       0.486933         0.007210   \n",
       "\n",
       "   param_criterion param_learning_rate param_max_depth param_n_estimators  \\\n",
       "61             NaN                 0.1               4                 20   \n",
       "63             NaN                 0.5               2                 10   \n",
       "88             NaN                 0.1               4                 20   \n",
       "\n",
       "   param_eval_metric  \n",
       "61          mlogloss  \n",
       "63          mlogloss  \n",
       "88               mae  "
      ]
     },
     "execution_count": 18,
     "metadata": {},
     "output_type": "execute_result"
    }
   ],
   "source": [
    "cvs_df = pd.concat(cv_dfs).reset_index(drop=True)\n",
    "best_models = cvs_df[\n",
    "        (cvs_df.mean_fit_time == cvs_df.mean_fit_time.min()) |\n",
    "        #(cvs_df.mean_score_time == cvs_df.mean_score_time.min()) | \n",
    "        (cvs_df.mean_test_score == cvs_df.mean_test_score.max())]\n",
    "best_models = best_models[[\n",
    "        'clf_name',\n",
    "        'mean_test_score',\n",
    "        'mean_fit_time',\n",
    "        'mean_score_time',\n",
    "        'param_criterion',\n",
    "        'param_learning_rate',\n",
    "        'param_max_depth',\n",
    "        'param_n_estimators',\n",
    "        'param_eval_metric'\n",
    "]]\n",
    "best_models"
   ]
  },
  {
   "cell_type": "markdown",
   "metadata": {},
   "source": [
    "### 6.Обучите реализации градиентного бустинга с параметрами по умолчанию из библиотек lightgbm и catboost. Сравните значение метрики accuracy по cross_val_score по всем четырем реализациям."
   ]
  },
  {
   "cell_type": "code",
   "execution_count": 19,
   "metadata": {},
   "outputs": [],
   "source": [
    "from lightgbm import LGBMClassifier\n",
    "from catboost import CatBoostClassifier"
   ]
  },
  {
   "cell_type": "code",
   "execution_count": 33,
   "metadata": {},
   "outputs": [
    {
     "name": "stdout",
     "output_type": "stream",
     "text": [
      "GradientBoostingClassifier \n",
      "\n",
      "Wall time: 4.42 s\n",
      "cross_val_score -  0.541588492808005 \n",
      "\n"
     ]
    }
   ],
   "source": [
    "model = GradientBoostingClassifier\n",
    "print(model.__name__, '\\n')\n",
    "      \n",
    "%time cvs = cross_val_score(model(), X, y, scoring=\"accuracy\", cv=3).mean()\n",
    "print('cross_val_score - ', cvs, '\\n')"
   ]
  },
  {
   "cell_type": "code",
   "execution_count": 34,
   "metadata": {},
   "outputs": [
    {
     "name": "stdout",
     "output_type": "stream",
     "text": [
      "XGBClassifier \n",
      "\n",
      "Wall time: 1.21 s\n",
      "cross_val_score -  0.5284552845528455 \n",
      "\n"
     ]
    }
   ],
   "source": [
    "model = XGBClassifier\n",
    "print(model.__name__, '\\n')\n",
    "      \n",
    "%time cvs = cross_val_score(model(objective='multi:softprob', eval_metric='mlogloss'), X, y, scoring=\"accuracy\", cv=3).mean()\n",
    "print('cross_val_score - ', cvs, '\\n')"
   ]
  },
  {
   "cell_type": "code",
   "execution_count": 35,
   "metadata": {},
   "outputs": [
    {
     "name": "stdout",
     "output_type": "stream",
     "text": [
      "LGBMClassifier \n",
      "\n",
      "Wall time: 1.07 s\n",
      "cross_val_score -  0.5284552845528455 \n",
      "\n"
     ]
    }
   ],
   "source": [
    "model = LGBMClassifier\n",
    "print(model.__name__, '\\n')\n",
    "      \n",
    "%time cvs = cross_val_score(model(), X, y, scoring=\"accuracy\", cv=3).mean()\n",
    "print('cross_val_score - ', cvs, '\\n')"
   ]
  },
  {
   "cell_type": "code",
   "execution_count": 36,
   "metadata": {},
   "outputs": [
    {
     "name": "stdout",
     "output_type": "stream",
     "text": [
      "CatBoostClassifier \n",
      "\n",
      "Wall time: 20.4 s\n",
      "cross_val_score -  0.5328330206378987 \n",
      "\n"
     ]
    }
   ],
   "source": [
    "model = CatBoostClassifier\n",
    "print(model.__name__, '\\n')\n",
    "      \n",
    "%time cvs = cross_val_score(model(verbose=False), X, y, scoring=\"accuracy\", cv=3).mean()\n",
    "print('cross_val_score - ', cvs, '\\n')"
   ]
  },
  {
   "cell_type": "markdown",
   "metadata": {},
   "source": [
    "### 7.Подберите оптимальные параметры для алгоритмов градиентного бустинга из библиотек lightgbm и catboost с теми же условиями. Выведите лучшие параметры алгоритмов.\n",
    "Сравните значение метрики accuracy и скорость по этим четырем реализациям."
   ]
  },
  {
   "cell_type": "code",
   "execution_count": 24,
   "metadata": {},
   "outputs": [
    {
     "data": {
      "text/plain": [
       "dict_keys(['boosting_type', 'class_weight', 'colsample_bytree', 'importance_type', 'learning_rate', 'max_depth', 'min_child_samples', 'min_child_weight', 'min_split_gain', 'n_estimators', 'n_jobs', 'num_leaves', 'objective', 'random_state', 'reg_alpha', 'reg_lambda', 'silent', 'subsample', 'subsample_for_bin', 'subsample_freq'])"
      ]
     },
     "execution_count": 24,
     "metadata": {},
     "output_type": "execute_result"
    }
   ],
   "source": [
    "LGBMClassifier().get_params().keys()"
   ]
  },
  {
   "cell_type": "code",
   "execution_count": 25,
   "metadata": {},
   "outputs": [],
   "source": [
    "#CatBoostClassifier(verbose=False).fit(X,y).get_all_params()"
   ]
  },
  {
   "cell_type": "code",
   "execution_count": 26,
   "metadata": {},
   "outputs": [
    {
     "name": "stdout",
     "output_type": "stream",
     "text": [
      "[LightGBM] [Warning] Unknown parameter: eval_metric\n",
      "Wall time: 4.83 s\n",
      "LGBMClassifier\n",
      "{'eval_metric': 'mlogloss', 'learning_rate': 0.1, 'max_depth': 2, 'n_estimators': 20, 'objective': 'multi:softprob'} \n",
      "\n",
      "Wall time: 3.2 s\n",
      "CatBoostClassifier\n",
      "{'eval_metric': 'MultiClass', 'learning_rate': 0.1, 'loss_function': 'MultiClass', 'max_depth': 4, 'n_estimators': 30, 'verbose': False} \n",
      "\n"
     ]
    }
   ],
   "source": [
    "models = [\n",
    "    {\n",
    "        'clf': LGBMClassifier,\n",
    "        'params': [{\n",
    "            'objective': ['multi:softprob'],\n",
    "            'eval_metric': ['mlogloss', 'mae'],\n",
    "            'learning_rate': [.1, .5, .9],\n",
    "            'n_estimators': [10, 20, 30],  \n",
    "            'max_depth': [2, 3, 4]}]\n",
    "    }, {\n",
    "        'clf': CatBoostClassifier,\n",
    "        'params': [{\n",
    "            'loss_function': ['MultiClass'],\n",
    "            'eval_metric': ['MultiClass'],\n",
    "            'learning_rate': [.1, .5, .9],\n",
    "            'n_estimators': [10, 20, 30],  \n",
    "            'max_depth': [2, 3, 4],\n",
    "            'verbose': [False]}]\n",
    "    }\n",
    "]\n",
    "\n",
    "cv_dfs = []\n",
    "\n",
    "for model in models:\n",
    "    clf_name = model['clf'].__name__\n",
    "    clf = model['clf']\n",
    "    params = model['params']\n",
    "    %time search = GridSearchCV(clf(), param_grid=params, scoring='accuracy', cv=3, n_jobs=-1).fit(X, y)\n",
    "    cv_df = pd.DataFrame(search.cv_results_)\n",
    "    cv_df['clf_name'] = clf_name\n",
    "    cv_dfs.append(cv_df)\n",
    "    print(clf_name)\n",
    "    print(search.best_params_, '\\n')"
   ]
  },
  {
   "cell_type": "code",
   "execution_count": 27,
   "metadata": {},
   "outputs": [
    {
     "data": {
      "text/html": [
       "<div>\n",
       "<style scoped>\n",
       "    .dataframe tbody tr th:only-of-type {\n",
       "        vertical-align: middle;\n",
       "    }\n",
       "\n",
       "    .dataframe tbody tr th {\n",
       "        vertical-align: top;\n",
       "    }\n",
       "\n",
       "    .dataframe thead th {\n",
       "        text-align: right;\n",
       "    }\n",
       "</style>\n",
       "<table border=\"1\" class=\"dataframe\">\n",
       "  <thead>\n",
       "    <tr style=\"text-align: right;\">\n",
       "      <th></th>\n",
       "      <th>clf_name</th>\n",
       "      <th>mean_test_score</th>\n",
       "      <th>mean_fit_time</th>\n",
       "      <th>mean_score_time</th>\n",
       "      <th>param_learning_rate</th>\n",
       "      <th>param_max_depth</th>\n",
       "      <th>param_n_estimators</th>\n",
       "      <th>param_eval_metric</th>\n",
       "    </tr>\n",
       "  </thead>\n",
       "  <tbody>\n",
       "    <tr>\n",
       "      <th>36</th>\n",
       "      <td>LGBMClassifier</td>\n",
       "      <td>0.548468</td>\n",
       "      <td>0.052121</td>\n",
       "      <td>0.00672</td>\n",
       "      <td>0.5</td>\n",
       "      <td>2</td>\n",
       "      <td>10</td>\n",
       "      <td>mae</td>\n",
       "    </tr>\n",
       "    <tr>\n",
       "      <th>62</th>\n",
       "      <td>CatBoostClassifier</td>\n",
       "      <td>0.587867</td>\n",
       "      <td>0.294592</td>\n",
       "      <td>0.01089</td>\n",
       "      <td>0.1</td>\n",
       "      <td>4</td>\n",
       "      <td>30</td>\n",
       "      <td>MultiClass</td>\n",
       "    </tr>\n",
       "  </tbody>\n",
       "</table>\n",
       "</div>"
      ],
      "text/plain": [
       "              clf_name  mean_test_score  mean_fit_time  mean_score_time  \\\n",
       "36      LGBMClassifier         0.548468       0.052121          0.00672   \n",
       "62  CatBoostClassifier         0.587867       0.294592          0.01089   \n",
       "\n",
       "   param_learning_rate param_max_depth param_n_estimators param_eval_metric  \n",
       "36                 0.5               2                 10               mae  \n",
       "62                 0.1               4                 30        MultiClass  "
      ]
     },
     "execution_count": 27,
     "metadata": {},
     "output_type": "execute_result"
    }
   ],
   "source": [
    "cvs_df = pd.concat(cv_dfs).reset_index(drop=True)\n",
    "best_models = cvs_df[\n",
    "        (cvs_df.mean_fit_time == cvs_df.mean_fit_time.min()) |\n",
    "        #(cvs_df.mean_score_time == cvs_df.mean_score_time.min()) | \n",
    "        (cvs_df.mean_test_score == cvs_df.mean_test_score.max())]\n",
    "best_models = best_models[[\n",
    "        'clf_name',\n",
    "        'mean_test_score',\n",
    "        'mean_fit_time',\n",
    "        'mean_score_time',\n",
    "        'param_learning_rate',\n",
    "        'param_max_depth',\n",
    "        'param_n_estimators',\n",
    "        'param_eval_metric'\n",
    "]]\n",
    "best_models"
   ]
  },
  {
   "cell_type": "markdown",
   "metadata": {},
   "source": [
    "### 8.Подберите оптимальные параметры алгоритма из библиотеки xgbost с помощью [hyperopt](https://github.com/hyperopt/hyperopt) . Параметры для оптимизации:\n",
    "\n",
    "оптимизируемый функционал\n",
    "\n",
    "скорость обучения\n",
    "\n",
    "количество деревьев\n",
    "\n",
    "глубина деревьев\n",
    "\n",
    "Сравните результат с поиском по сетке из sklearn. Выведите лучшие параметры алгоритма, найденные даным способом."
   ]
  },
  {
   "cell_type": "code",
   "execution_count": 28,
   "metadata": {},
   "outputs": [],
   "source": [
    "from hyperopt import hp, fmin, tpe, Trials, STATUS_OK\n",
    "from functools import partial\n",
    "from sklearn.pipeline import Pipeline"
   ]
  },
  {
   "cell_type": "code",
   "execution_count": 29,
   "metadata": {},
   "outputs": [
    {
     "name": "stdout",
     "output_type": "stream",
     "text": [
      "100%|███████████████████████████████████████████████| 40/40 [00:18<00:00,  2.20trial/s, best loss: -0.5803627267041901]\n",
      "name - xgbc\n",
      "loss - -0.5803627267041901\n",
      "eval_metric - mlogloss\n",
      "learning_rate - 0.1479200097500323\n",
      "max_depth - 6\n",
      "n_estimators - 11\n",
      "\n",
      "\n"
     ]
    }
   ],
   "source": [
    "models = [\n",
    "    {'name':'xgbc', 'clf':XGBClassifier(), 'eval_metrics':['mlogloss', 'mae']}\n",
    "]\n",
    "\n",
    "def objective(params, pipe,  X_train, y_train):\n",
    "    pipe.set_params(**params)\n",
    "    score = cross_val_score(estimator=pipe, X=X_train, y=y_train, scoring='accuracy', cv=3, n_jobs=-1)\n",
    "    return {'loss': -score.mean(), 'params': params, 'status': STATUS_OK}\n",
    "\n",
    "for model in models:\n",
    "    name = model['name']\n",
    "    clf = model['clf']\n",
    "    eval_metrics = model['eval_metrics']\n",
    "    pipe = Pipeline([(name, clf)])\n",
    "    search_space = {\n",
    "        name+'__eval_metric': hp.choice(label=\"eval_metric\", options=eval_metrics),\n",
    "        name+'__learning_rate' : hp.loguniform(label='learning_rate', low=np.log(0.04), high=np.log(0.5)),\n",
    "        name+'__max_depth' :  hp.choice(label=\"max_depth\", options=np.arange(2, 10, 1, dtype=int)),\n",
    "        name+'__n_estimators' : hp.choice(label=\"n_estimators\", options=np.arange(1, 100, 10, dtype=int))\n",
    "    }\n",
    "    trials = Trials()\n",
    "    best = fmin( \n",
    "        fn=partial(objective, pipe=pipe, X_train=X, y_train=y),\n",
    "        space=search_space,\n",
    "        algo=tpe.suggest,\n",
    "        max_evals=40,\n",
    "        trials=trials,\n",
    "        show_progressbar=True\n",
    "    )\n",
    "    print('name -', name)\n",
    "    print('loss -', trials.best_trial['result']['loss'])\n",
    "    for param_name in trials.best_trial['result']['params']:\n",
    "        print(param_name.split('__')[1], '-', trials.best_trial['result']['params'][param_name])\n",
    "    print('\\n')"
   ]
  },
  {
   "cell_type": "markdown",
   "metadata": {},
   "source": [
    "### 9.Выведите качество по метрике accuracy стэкинга (StackingClassifier) 4-х алгоритмов с базовыми параметрами градиентного бустинга."
   ]
  },
  {
   "cell_type": "code",
   "execution_count": 30,
   "metadata": {},
   "outputs": [],
   "source": [
    "from sklearn.ensemble import StackingClassifier"
   ]
  },
  {
   "cell_type": "code",
   "execution_count": 31,
   "metadata": {},
   "outputs": [
    {
     "name": "stdout",
     "output_type": "stream",
     "text": [
      "Wall time: 1min 32s\n"
     ]
    },
    {
     "data": {
      "text/plain": [
       "0.5666041275797373"
      ]
     },
     "execution_count": 31,
     "metadata": {},
     "output_type": "execute_result"
    }
   ],
   "source": [
    "estimators = [\n",
    "    ('cbc', CatBoostClassifier()),\n",
    "    ('lgbmc', LGBMClassifier()),\n",
    "    ('rfc', GradientBoostingClassifier()),\n",
    "    ('xgbc', XGBClassifier())\n",
    "]\n",
    "stacked = StackingClassifier(estimators=estimators)\n",
    "%time score = cross_val_score(estimator=stacked, X=X, y=y, scoring='accuracy', cv=3, n_jobs=-1).mean()\n",
    "score"
   ]
  },
  {
   "cell_type": "markdown",
   "metadata": {},
   "source": [
    "### 10.Выведите качество по метрике accuracy стэкинга 4-х алгоритмов с оптимальными параметрами градиентного бустинга. Сравните результаты с предыдущим шагом и напишите какой вывод можно из этого сделать."
   ]
  },
  {
   "cell_type": "code",
   "execution_count": 37,
   "metadata": {},
   "outputs": [
    {
     "name": "stdout",
     "output_type": "stream",
     "text": [
      "100%|████████████████████████████████████████████████| 40/40 [05:45<00:00,  8.65s/trial, best loss: -0.575984990619137]\n",
      "name - gbc\n",
      "loss - -0.575984990619137\n",
      "criterion - friedman_mse\n",
      "learning_rate - 0.04371211482448806\n",
      "max_depth - 2\n",
      "n_estimators - 91\n",
      "\n",
      "\n",
      "100%|███████████████████████████████████████████████| 40/40 [00:22<00:00,  1.77trial/s, best loss: -0.5797373358348968]\n",
      "name - xgbc\n",
      "loss - -0.5797373358348968\n",
      "eval_metric - mlogloss\n",
      "learning_rate - 0.044117644495022944\n",
      "max_depth - 5\n",
      "n_estimators - 21\n",
      "\n",
      "\n",
      "100%|███████████████████████████████████████████████| 40/40 [00:17<00:00,  2.24trial/s, best loss: -0.5766103814884302]\n",
      "name - lgbmc\n",
      "loss - -0.5766103814884302\n",
      "eval_metric - mae\n",
      "learning_rate - 0.09700525753870985\n",
      "max_depth - 3\n",
      "n_estimators - 11\n",
      "\n",
      "\n",
      "100%|███████████████████████████████████████████████| 40/40 [00:41<00:00,  1.05s/trial, best loss: -0.5916197623514696]\n",
      "name - cbc\n",
      "loss - -0.5916197623514696\n",
      "eval_metric - MultiClass\n",
      "learning_rate - 0.08220908947481331\n",
      "max_depth - 5\n",
      "n_estimators - 51\n",
      "\n",
      "\n"
     ]
    }
   ],
   "source": [
    "models = [\n",
    "    {'name':'gbc', 'clf':GradientBoostingClassifier(), \n",
    "     'metrics':{'param_name':'criterion','param_vals':['friedman_mse', 'mae']}},\n",
    "    {'name':'xgbc', 'clf':XGBClassifier(),\n",
    "     'metrics':{'param_name':'eval_metric','param_vals':['mlogloss', 'mae']}},\n",
    "    {'name':'lgbmc', 'clf':LGBMClassifier(objective='multi:softprob'),\n",
    "     'metrics':{'param_name':'eval_metric','param_vals':['mlogloss', 'mae']}},\n",
    "    {'name':'cbc', 'clf':CatBoostClassifier(loss_function='MultiClass'),\n",
    "     'metrics':{'param_name':'eval_metric','param_vals':['MultiClass']}},\n",
    "]\n",
    "\n",
    "def objective(params, pipe,  X_train, y_train):\n",
    "    pipe.set_params(**params)\n",
    "    score = cross_val_score(estimator=pipe, X=X_train, y=y_train, scoring='accuracy', cv=3, n_jobs=-1)\n",
    "    return {'loss': -score.mean(), 'params': params, 'status': STATUS_OK}\n",
    "\n",
    "best_trials = {}\n",
    "\n",
    "for model in models:\n",
    "    name = model['name']\n",
    "    clf = model['clf']\n",
    "    param_name = model['metrics']['param_name']\n",
    "    param_vals = model['metrics']['param_vals']\n",
    "    pipe = Pipeline([(name, clf)])\n",
    "    search_space = {\n",
    "        name+'__'+param_name: hp.choice(label=param_name, options=param_vals),\n",
    "        name+'__learning_rate' : hp.loguniform(label='learning_rate', low=np.log(0.04), high=np.log(0.5)),\n",
    "        name+'__max_depth' :  hp.choice(label=\"max_depth\", options=np.arange(2, 10, 1, dtype=int)),\n",
    "        name+'__n_estimators' : hp.choice(label=\"n_estimators\", options=np.arange(1, 100, 10, dtype=int))\n",
    "    }\n",
    "    trials = Trials()\n",
    "    best = fmin( \n",
    "        fn=partial(objective, pipe=pipe, X_train=X, y_train=y),\n",
    "        space=search_space,\n",
    "        algo=tpe.suggest,\n",
    "        max_evals=40,\n",
    "        trials=trials,\n",
    "        show_progressbar=True\n",
    "    )\n",
    "    best_trials[name] = trials.best_trial\n",
    "    print('name -', name)\n",
    "    print('loss -', trials.best_trial['result']['loss'])\n",
    "    for param_name in trials.best_trial['result']['params']:\n",
    "        print(param_name.split('__')[1], '-', trials.best_trial['result']['params'][param_name])\n",
    "    print('\\n')"
   ]
  },
  {
   "cell_type": "code",
   "execution_count": 38,
   "metadata": {},
   "outputs": [
    {
     "name": "stdout",
     "output_type": "stream",
     "text": [
      "Wall time: 11.9 s\n"
     ]
    },
    {
     "data": {
      "text/plain": [
       "0.5934959349593497"
      ]
     },
     "execution_count": 38,
     "metadata": {},
     "output_type": "execute_result"
    }
   ],
   "source": [
    "clfs = {'gbc':GradientBoostingClassifier, 'xgbc':XGBClassifier, 'lgbmc':LGBMClassifier, 'cbc':CatBoostClassifier}\n",
    "optimal_models = []\n",
    "for name in best_trials:\n",
    "    params = best_trials[name]['result']['params']\n",
    "    renamed_params = {}\n",
    "    for param_name in params:\n",
    "        renamed_name = param_name.split('__')[1]\n",
    "        renamed_params[renamed_name] = params[param_name]\n",
    "    model = clfs[name]\n",
    "    optimal_model = model(**renamed_params)\n",
    "    optimal_models.append((name, optimal_model))\n",
    "\n",
    "stacked = StackingClassifier(estimators=optimal_models)\n",
    "%time score = cross_val_score(estimator=stacked, X=X, y=y, scoring='accuracy', cv=3, n_jobs=-1).mean()\n",
    "score"
   ]
  },
  {
   "cell_type": "markdown",
   "metadata": {},
   "source": [
    "Стэкинг моделей с оптимальными параметрами, показывает более лучший результат по метрике и по времени обучения. Вывод- данный ансамблевый лучше применять на предподготовленных моделях с заранее подобранными оптимальными параметрами."
   ]
  }
 ],
 "metadata": {
  "kernelspec": {
   "display_name": "Python 3",
   "language": "python",
   "name": "python3"
  },
  "language_info": {
   "codemirror_mode": {
    "name": "ipython",
    "version": 3
   },
   "file_extension": ".py",
   "mimetype": "text/x-python",
   "name": "python",
   "nbconvert_exporter": "python",
   "pygments_lexer": "ipython3",
   "version": "3.8.3"
  }
 },
 "nbformat": 4,
 "nbformat_minor": 2
}
